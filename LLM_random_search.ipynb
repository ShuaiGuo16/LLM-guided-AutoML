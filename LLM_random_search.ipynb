{
 "cells": [
  {
   "cell_type": "markdown",
   "id": "b5ccb800",
   "metadata": {},
   "source": [
    "### Objective\n",
    "\n",
    "In this notebook, we aim to leverage the ML expertise of LLM to accelerate hyperparameter tuning"
   ]
  },
  {
   "cell_type": "code",
   "execution_count": 1,
   "id": "2381314a",
   "metadata": {},
   "outputs": [],
   "source": [
    "import pandas as pd\n",
    "import numpy as np\n",
    "from collections import defaultdict\n",
    "import utilities\n",
    "import os\n",
    "from flaml import tune\n",
    "from flaml import AutoML\n",
    "\n",
    "import xgboost as xgb\n",
    "from sklearn.experimental import enable_halving_search_cv\n",
    "from sklearn.model_selection import HalvingRandomSearchCV, RandomizedSearchCV\n",
    "from scipy.stats import randint, uniform, loguniform\n",
    "import scipy\n",
    "import re"
   ]
  },
  {
   "cell_type": "markdown",
   "id": "3e103507",
   "metadata": {},
   "source": [
    "### 1. Data preparation"
   ]
  },
  {
   "cell_type": "code",
   "execution_count": 2,
   "id": "cbeb1f2b",
   "metadata": {},
   "outputs": [],
   "source": [
    "# import train data\n",
    "train = pd.read_csv('dataset/train_AutoML_probe.csv')\n",
    "train.rename(columns={'attack_category': 'attack'}, inplace=True)\n",
    "\n",
    "# import test data\n",
    "test = pd.read_csv('dataset/test_AutoML_probe.csv')\n",
    "test.rename(columns={'attack_category': 'attack'}, inplace=True)\n",
    "\n",
    "# Feature category\n",
    "feature_names = defaultdict(list)\n",
    "with open('dataset/feature_types.txt', 'r') as f:\n",
    "    for line in f.readlines():\n",
    "        feature, category = line.strip().strip('.').split(': ')\n",
    "        feature_names[category].append(feature)\n",
    "\n",
    "# Numerical features\n",
    "num_feats = feature_names['continuous']\n",
    "num_feats.remove('num_outbound_cmds')\n",
    "\n",
    "# Binary features\n",
    "binary_feats = ['land', 'logged_in', 'root_shell', 'su_attempted', 'is_host_login', 'is_guest_login']\n",
    "\n",
    "# Nominal features\n",
    "nominal_feats = list(set(feature_names['discrete'])-set(binary_feats))\n",
    "\n",
    "from sklearn.preprocessing import OrdinalEncoder\n",
    "\n",
    "enc = OrdinalEncoder()\n",
    "train[nominal_feats] = enc.fit_transform(train[nominal_feats])\n",
    "test[nominal_feats] = enc.transform(test[nominal_feats])\n",
    "\n",
    "# Separate feature/label\n",
    "X_train, y_train = train.iloc[:, :-1].to_numpy(), train.iloc[:, -1].to_numpy()\n",
    "X_test, y_test = test.iloc[:, :-1].to_numpy(), test.iloc[:, -1].to_numpy()"
   ]
  },
  {
   "cell_type": "markdown",
   "id": "2679eb41",
   "metadata": {},
   "source": [
    "### 2. Data profiling"
   ]
  },
  {
   "cell_type": "code",
   "execution_count": 3,
   "id": "8811930e",
   "metadata": {},
   "outputs": [],
   "source": [
    "report = utilities.data_report(train, num_feats, binary_feats, nominal_feats)"
   ]
  },
  {
   "cell_type": "markdown",
   "id": "f91fcc64",
   "metadata": {},
   "source": [
    "### 3. LLM chatbot"
   ]
  },
  {
   "cell_type": "code",
   "execution_count": 4,
   "id": "92bed787",
   "metadata": {},
   "outputs": [],
   "source": [
    "from langchain.chains import ConversationalRetrievalChain\n",
    "from langchain.prompts import (\n",
    "    ChatPromptTemplate, \n",
    "    MessagesPlaceholder, \n",
    "    SystemMessagePromptTemplate, \n",
    "    HumanMessagePromptTemplate\n",
    ")\n",
    "from langchain.chains import ConversationChain\n",
    "from langchain.chat_models import ChatOpenAI, AzureChatOpenAI\n",
    "from langchain.memory import ConversationBufferMemory"
   ]
  },
  {
   "cell_type": "code",
   "execution_count": 5,
   "id": "b80eeba0",
   "metadata": {},
   "outputs": [],
   "source": [
    "# Set up LLM\n",
    "llm = ChatOpenAI(temperature=0.6)\n",
    "\n",
    "memory = ConversationBufferMemory(return_messages=True)"
   ]
  },
  {
   "cell_type": "code",
   "execution_count": 21,
   "id": "b32d836c",
   "metadata": {},
   "outputs": [],
   "source": [
    "last_run_best_score = []\n",
    "all_time_best_score = []"
   ]
  },
  {
   "cell_type": "markdown",
   "id": "dcc0b2d8",
   "metadata": {},
   "source": [
    "#### 3.1 Suggest metrics"
   ]
  },
  {
   "cell_type": "code",
   "execution_count": 7,
   "id": "c3d37123",
   "metadata": {},
   "outputs": [],
   "source": [
    "# Set up the system message\n",
    "system_message = f\"\"\"\n",
    "You are a senior data scientist tasked with guiding the use of an AutoML tool  \n",
    "to discover the best XGBoost model configurations for a given binary classification dataset. \n",
    "Your role involves understanding the dataset characteristics, proposing suitable metrics, \n",
    "hyperparameters, and their search spaces, analyzing results, and iterating on configurations. \n",
    "\"\"\""
   ]
  },
  {
   "cell_type": "code",
   "execution_count": 8,
   "id": "37954614",
   "metadata": {},
   "outputs": [],
   "source": [
    "def suggest_metrics(report):\n",
    "    \n",
    "    prompt = f\"\"\"\n",
    "    The classification problem under investigation is based on a network intrusion detection dataset. \n",
    "    This dataset contains DOS, Probe, R2L, and U2R attack types, which are all grouped under the \n",
    "    \"attack\" class (label: 1). Conversely, the \"normal\" class is represented by label 0. \n",
    "    Below are the dataset's characteristics:\n",
    "    {report}.\n",
    "\n",
    "    For this specific inquiry, you are tasked with recommending a suitable hyperparameter optimization \n",
    "    metric for training a XGBoost model. It is crucial that the model should accurately identify genuine \n",
    "    threats (attacks) without raising excessive false alarms on benign activities. They are equally important.\n",
    "    Given the problem context and dataset characteristics, suggest only the name of one of the built-in \n",
    "    metrics: \n",
    "    - 'accuracy'\n",
    "    - 'roc_auc' (ROCAUC score)\n",
    "    - 'f1' (F1 score)\n",
    "    - 'balanced_accuracy' (It is the macro-average of recall scores per class or, equivalently, raw \n",
    "    accuracy where each sample is weighted according to the inverse prevalence of its true class) \n",
    "    - 'average_precision'\n",
    "    - 'precision'\n",
    "    - 'recall'\n",
    "    - 'neg_brier_score'\n",
    "    \n",
    "        \n",
    "    Please first briefly explain your reasoning and then provide the recommended metric name. \n",
    "    Your recommendation should be enclosed between markers [BEGIN] and [END], with standalone string for \n",
    "    indicating the metric name.\n",
    "    Do not provide other settings or configurations.\n",
    "    \"\"\"\n",
    "\n",
    "    return prompt"
   ]
  },
  {
   "cell_type": "code",
   "execution_count": 9,
   "id": "0daa602b",
   "metadata": {},
   "outputs": [],
   "source": [
    "def suggest_initial_search_space():\n",
    "    \n",
    "    prompt = f\"\"\"\n",
    "    Given your understanding of XGBoost and general best practices in machine learning, suggest an \n",
    "    initial search space for hyperparameters. \n",
    "\n",
    "    Tunable hyperparameters include:\n",
    "    - n_estimators (integer): Number of boosting rounds or trees to be trained.\n",
    "    - max_depth (integer): Maximum tree depth for base learners.\n",
    "    - min_child_weight (integer or float): Minimum sum of instance weight (hessian) needed in a leaf node. \n",
    "    - gamma (float): Minimum loss reduction required to make a further partition on a leaf node of the tree.\n",
    "    - scale_pos_weight (float): Balancing of positive and negative weights.\n",
    "    - learning_rate (float): Step size shrinkage used during each boosting round to prevent overfitting. \n",
    "    - subsample (float): Fraction of the training data sampled to train each tree. \n",
    "    - colsample_bylevel (float): Fraction of features that can be randomly sampled for building each level (or depth) of the tree.\n",
    "    - colsample_bytree (float): Fraction of features that can be randomly sampled for building each tree. \n",
    "    - reg_alpha (float): L1 regularization term on weights. \n",
    "    - reg_lambda (float): L2 regularization term on weights. \n",
    "\n",
    "    The search space is defined as a dict with keys being hyperparameter names, and values \n",
    "    are the search space associated with the hyperparameter. For example:\n",
    "        search_space = {{\n",
    "            \"learning_rate\": loguniform(1e-4, 1e-3)\n",
    "        }}\n",
    "\n",
    "    Available types of domains include: \n",
    "    - scipy.stats.uniform(loc, scale), it samples values uniformly between loc and loc + scale.\n",
    "    - scipy.stats.loguniform(a, b), it samples values between a and b in a logarithmic scale.\n",
    "    - scipy.stats.randint(low, high), it samples integers uniformly between low (inclusive) and high (exclusive).\n",
    "    - a list of possible discrete value, e.g., [\"a\", \"b\", \"c\"]\n",
    "\n",
    "    Please first briefly explain your reasoning, then provide the configurations of the initial \n",
    "    search space. Enclose your suggested configurations between markers \n",
    "    [BEGIN] and [END], and assign your configuration to a variable named search_space.\n",
    "    \"\"\"\n",
    "\n",
    "    return prompt"
   ]
  },
  {
   "cell_type": "code",
   "execution_count": 15,
   "id": "5fa0fc67",
   "metadata": {},
   "outputs": [],
   "source": [
    "def suggest_refine_search_space(top_n, last_run_best_score, all_time_best_score):\n",
    "\n",
    "    prompt = f\"\"\"\n",
    "    Given your previously suggested search space, the obtained top configurations with their \n",
    "    test scores:\n",
    "    {top_n}\n",
    "    \n",
    "    The best score from the last run was {last_run_best_score}, while the best score ever \n",
    "    achieved in all previous runs is {all_time_best_score}\n",
    "\n",
    "    Remember, tunable hyperparameters are: n_estimators, max_depth, min_child_samples, gamma, \n",
    "    scale_pos_weight, learning_rate, subsample, colsample_bylevel, colsample_bytree, reg_alpha, \n",
    "    and reg_lambda.\n",
    "\n",
    "    Given the insights from the search history, your expertise in ML, and the need to further \n",
    "    explore the search space, please suggest refinements for the search space in the next optimization round. \n",
    "    Consider both narrowing and expanding the search space for hyperparameters where appropriate.\n",
    "\n",
    "    For each recommendation, please:\n",
    "    1. Explicitly tie back to any general best practices or patterns you are aware of regarding XGBoost tuning\n",
    "    2. Then, relate to the insights from the search history and explain how they align or deviate from these \n",
    "    practices or patterns.\n",
    "    3. If suggesting an expansion of the search space, please provide a rationale for why a broader range could \n",
    "    be beneficial.\n",
    "\n",
    "\n",
    "    Briefly summarize your reasoning for the refinements and then present the adjusted configurations. \n",
    "    Enclose your refined configurations between markers [BEGIN] and [END], and assign your \n",
    "    configuration to a variable named search_space.\n",
    "    \"\"\"\n",
    "    \n",
    "    return prompt"
   ]
  },
  {
   "cell_type": "code",
   "execution_count": 11,
   "id": "5dc3aa98",
   "metadata": {},
   "outputs": [],
   "source": [
    "# Set up the prompt\n",
    "prompt = ChatPromptTemplate.from_messages([\n",
    "    SystemMessagePromptTemplate.from_template(system_message),\n",
    "    MessagesPlaceholder(variable_name=\"history\"),\n",
    "    HumanMessagePromptTemplate.from_template(\"\"\"{input}\"\"\")\n",
    "])\n",
    "\n",
    "# Create conversation chain\n",
    "conversation = ConversationChain(memory=memory, prompt=prompt, \n",
    "                                llm=llm, verbose=False)"
   ]
  },
  {
   "cell_type": "code",
   "execution_count": 12,
   "id": "5687f2ea",
   "metadata": {},
   "outputs": [
    {
     "name": "stdout",
     "output_type": "stream",
     "text": [
      "Given the problem context and the class imbalance in the dataset, we need a metric that balances both precision and recall. Precision is important because we want to minimize the number of false positives (benign activities that are incorrectly classified as attacks). Recall is also important because we want to minimize the number of false negatives (attacks that are incorrectly classified as benign activities).\n",
      "\n",
      "The F1 score is a harmonic mean of precision and recall, and it balances these two metrics. Therefore, it is a suitable choice for this problem. \n",
      "\n",
      "The metric name is enclosed between the markers [BEGIN] and [END]:\n",
      "\n",
      "[BEGIN]\n",
      "'f1'\n",
      "[END]\n"
     ]
    }
   ],
   "source": [
    "# Suggest metrics\n",
    "prompt = suggest_metrics(report)\n",
    "response = conversation.predict(input=prompt)\n",
    "print(response)"
   ]
  },
  {
   "cell_type": "markdown",
   "id": "6c7f09cd",
   "metadata": {},
   "source": [
    "#### 3.2 Suggest initial search space"
   ]
  },
  {
   "cell_type": "code",
   "execution_count": 13,
   "id": "c8a03d8c",
   "metadata": {},
   "outputs": [
    {
     "name": "stdout",
     "output_type": "stream",
     "text": [
      "The aim of setting the initial hyperparameters search space is to explore a broad range of possible values. Here are some general guidelines for setting the hyperparameters:\n",
      "\n",
      "- n_estimators: A high number of trees can lead to overfitting, and a low number to underfitting. Hence, a range from 100 to 1000 can be a good starting point.\n",
      "- max_depth: Increasing this value will make the model more complex and more likely to overfit. A range of 3 to 10 is often good enough.\n",
      "- min_child_weight: This parameter is used to control overfitting. The larger, the more conservative the algorithm will be. It can range from 1 to 20.\n",
      "- gamma: The larger, the more conservative the algorithm will be. It can range from 0 to 5.\n",
      "- scale_pos_weight: Given the class imbalance, this parameter should be greater than 1. We can try a range from 1 to 10.\n",
      "- learning_rate: It is usually set between 0.01 to 0.2.\n",
      "- subsample, colsample_bylevel, colsample_bytree: These parameters are for preventing overfitting. Values from 0.5 to 1 make sense.\n",
      "- reg_alpha, reg_lambda: These are regularization parameters. It's difficult to set a range without knowing more about your data, but a loguniform distribution from 1e-5 to 100 could be a good starting point.\n",
      "\n",
      "Here are the suggested configurations:\n",
      "\n",
      "[BEGIN]\n",
      "search_space = {\n",
      "    \"n_estimators\": scipy.stats.randint(100, 1000),\n",
      "    \"max_depth\": scipy.stats.randint(3, 10),\n",
      "    \"min_child_weight\": scipy.stats.randint(1, 20),\n",
      "    \"gamma\": scipy.stats.uniform(0, 5),\n",
      "    \"scale_pos_weight\": scipy.stats.uniform(1, 10),\n",
      "    \"learning_rate\": scipy.stats.loguniform(0.01, 0.2),\n",
      "    \"subsample\": scipy.stats.uniform(0.5, 0.5),\n",
      "    \"colsample_bylevel\": scipy.stats.uniform(0.5, 0.5),\n",
      "    \"colsample_bytree\": scipy.stats.uniform(0.5, 0.5),\n",
      "    \"reg_alpha\": scipy.stats.loguniform(1e-5, 100),\n",
      "    \"reg_lambda\": scipy.stats.loguniform(1e-5, 100),\n",
      "}\n",
      "[END]\n"
     ]
    }
   ],
   "source": [
    "# Initial search space\n",
    "prompt = suggest_initial_search_space()\n",
    "response = conversation.predict(input=prompt)\n",
    "print(response)"
   ]
  },
  {
   "cell_type": "code",
   "execution_count": 14,
   "id": "b1d2522c",
   "metadata": {},
   "outputs": [
    {
     "name": "stdout",
     "output_type": "stream",
     "text": [
      "n_iterations: 5\n",
      "n_required_iterations: 6\n",
      "n_possible_iterations: 5\n",
      "min_resources_: 325\n",
      "max_resources_: 78999\n",
      "aggressive_elimination: False\n",
      "factor: 3\n",
      "----------\n",
      "iter: 0\n",
      "n_candidates: 500\n",
      "n_resources: 325\n",
      "Fitting 5 folds for each of 500 candidates, totalling 2500 fits\n",
      "----------\n",
      "iter: 1\n",
      "n_candidates: 167\n",
      "n_resources: 975\n",
      "Fitting 5 folds for each of 167 candidates, totalling 835 fits\n",
      "----------\n",
      "iter: 2\n",
      "n_candidates: 56\n",
      "n_resources: 2925\n",
      "Fitting 5 folds for each of 56 candidates, totalling 280 fits\n",
      "----------\n",
      "iter: 3\n",
      "n_candidates: 19\n",
      "n_resources: 8775\n",
      "Fitting 5 folds for each of 19 candidates, totalling 95 fits\n",
      "----------\n",
      "iter: 4\n",
      "n_candidates: 7\n",
      "n_resources: 26325\n",
      "Fitting 5 folds for each of 7 candidates, totalling 35 fits\n",
      "CPU times: total: 3h 48min 48s\n",
      "Wall time: 20min 35s\n"
     ]
    }
   ],
   "source": [
    "%%time\n",
    "\n",
    "search_space = {\n",
    "    \"n_estimators\": scipy.stats.randint(100, 1000),\n",
    "    \"max_depth\": scipy.stats.randint(3, 10),\n",
    "    \"min_child_weight\": scipy.stats.randint(1, 20),\n",
    "    \"gamma\": scipy.stats.uniform(0, 5),\n",
    "    \"scale_pos_weight\": scipy.stats.uniform(1, 10),\n",
    "    \"learning_rate\": scipy.stats.loguniform(0.01, 0.2),\n",
    "    \"subsample\": scipy.stats.uniform(0.5, 0.5),\n",
    "    \"colsample_bylevel\": scipy.stats.uniform(0.5, 0.5),\n",
    "    \"colsample_bytree\": scipy.stats.uniform(0.5, 0.5),\n",
    "    \"reg_alpha\": scipy.stats.loguniform(1e-5, 100),\n",
    "    \"reg_lambda\": scipy.stats.loguniform(1e-5, 100),\n",
    "}\n",
    "\n",
    "clf = xgb.XGBClassifier(seed=42, objective='binary:logistic', \n",
    "                        eval_metric='logloss', n_jobs=-1, use_label_encoder=False)\n",
    "# search = RandomizedSearchCV(clf, search_space, scoring='roc_auc', \n",
    "#                             n_iter=5, cv=5, verbose=1).fit(X_train, y_train)\n",
    "search = HalvingRandomSearchCV(clf, search_space, scoring='f1', n_candidates=500,\n",
    "                              cv=5, min_resources='exhaust', factor=3, verbose=1).fit(X_train, y_train)"
   ]
  },
  {
   "cell_type": "code",
   "execution_count": 19,
   "id": "1d79c878",
   "metadata": {},
   "outputs": [],
   "source": [
    "def extract_logs(results):\n",
    "\n",
    "    # Assuming you have the logs in a DataFrame called df\n",
    "    df = pd.DataFrame(search.cv_results_)\n",
    "\n",
    "    # Number of top-performing configurations you want to extract\n",
    "    top_n = 5\n",
    "\n",
    "    # 1. Identify top-performing configurations using rank_test_score\n",
    "    top_configs = df.nsmallest(top_n, 'rank_test_score').reset_index(drop=True)\n",
    "\n",
    "    hyperparameter_columns = [\n",
    "        'param_colsample_bylevel', 'param_colsample_bytree', 'param_gamma',\n",
    "        'param_learning_rate', 'param_max_depth', 'param_min_child_weight',\n",
    "        'param_n_estimators', 'param_reg_alpha', 'param_reg_lambda',\n",
    "        'param_scale_pos_weight', 'param_subsample'\n",
    "    ]\n",
    "\n",
    "    # Extracting the top-N configurations as strings\n",
    "    config_strings = []\n",
    "    for index, row in top_configs.iterrows():\n",
    "        config_str = ', '.join([f\"{col[6:]}: {row[col]}\" for col in hyperparameter_columns])\n",
    "        config_strings.append(f\"Configuration {index + 1} ({row['mean_test_score']:.4f} test score): {config_str}\")\n",
    "\n",
    "    # Joining them together for a complete summary\n",
    "    top_config_summary = '\\n'.join(config_strings)\n",
    "    \n",
    "    # Best test score\n",
    "    last_run_best_score = top_configs.loc[0, 'mean_test_score']\n",
    "    \n",
    "    return top_config_summary, last_run_best_score"
   ]
  },
  {
   "cell_type": "code",
   "execution_count": 17,
   "id": "e7ad8bca",
   "metadata": {},
   "outputs": [
    {
     "name": "stdout",
     "output_type": "stream",
     "text": [
      "ROC_AUC score: 0.983\n",
      "f1 score: 0.833\n",
      "Accuracy: 93.78%\n",
      "Precision: 89.53%\n",
      "Detection rate: 77.96%\n",
      "False alarm rate: 2.2757697456492636%\n",
      "MCC: 0.80\n"
     ]
    },
    {
     "data": {
      "image/png": "[encoded data removed]",
      "text/plain": [
       "<Figure size 432x288 with 2 Axes>"
      ]
     },
     "metadata": {
      "needs_background": "light"
     },
     "output_type": "display_data"
    }
   ],
   "source": [
    "# Assess performance\n",
    "from sklearn.metrics import roc_auc_score, f1_score\n",
    "\n",
    "y_pred = search.predict(X_test)\n",
    "y_pred_proba = search.predict_proba(X_test)\n",
    "utilities.metrics_display(y_test, y_pred, y_pred_proba[:, 1])\n",
    "# print(f\"ROC AUC score: {roc_auc_score(y_test, y_pred_proba[:, 1])}\")\n",
    "# print(f\"f1 score: {f1_score(y_test, y_pred)}\")"
   ]
  },
  {
   "cell_type": "code",
   "execution_count": 25,
   "id": "9985d193",
   "metadata": {},
   "outputs": [],
   "source": [
    "top_n, best_score = extract_logs(search.cv_results_)\n",
    "last_run_best_score.append(best_score)\n",
    "if len(all_time_best_score)==0:\n",
    "    all_time_best_score.append(best_score)\n",
    "else:\n",
    "    if all_time_best_score[0]<best_score:\n",
    "        all_time_best_score[0] = best_score\n",
    "prompt = suggest_refine_search_space(top_n, last_run_best_score[-1], all_time_best_score[-1])"
   ]
  },
  {
   "cell_type": "code",
   "execution_count": 30,
   "id": "79e1d71e",
   "metadata": {},
   "outputs": [
    {
     "name": "stdout",
     "output_type": "stream",
     "text": [
      "Looking at the best configurations, we see some patterns:\n",
      "\n",
      "- n_estimators: The values are on the higher end of the spectrum. This suggests that we could narrow the range to higher values.\n",
      "- max_depth: The values are mostly around the middle of the range. We can leave this as is.\n",
      "- min_child_weight: All the top configurations have this value as 1 or 2, suggesting we can narrow the search space.\n",
      "- gamma: The values vary across the configurations. We can leave this as is.\n",
      "- scale_pos_weight: The values are generally around the middle of the range. We can leave this as is.\n",
      "- learning_rate: The values are on the lower end of the spectrum. This suggests that we could narrow the range to lower values.\n",
      "- subsample, colsample_bylevel, colsample_bytree: The values are on the higher end of the spectrum. This suggests that we could narrow the range to higher values.\n",
      "- reg_alpha, reg_lambda: The values vary across the configurations. This suggests that we could expand the range to explore more possibilities.\n",
      "\n",
      "Here are the adjusted configurations:\n",
      "\n",
      "[BEGIN]\n",
      "search_space = {\n",
      "    \"n_estimators\": scipy.stats.randint(500, 1000),\n",
      "    \"max_depth\": scipy.stats.randint(3, 10),\n",
      "    \"min_child_weight\": scipy.stats.randint(1, 3),\n",
      "    \"gamma\": scipy.stats.uniform(0, 5),\n",
      "    \"scale_pos_weight\": scipy.stats.uniform(1, 10),\n",
      "    \"learning_rate\": scipy.stats.loguniform(0.01, 0.1),\n",
      "    \"subsample\": scipy.stats.uniform(0.7, 0.3),\n",
      "    \"colsample_bylevel\": scipy.stats.uniform(0.7, 0.3),\n",
      "    \"colsample_bytree\": scipy.stats.uniform(0.7, 0.3),\n",
      "    \"reg_alpha\": scipy.stats.loguniform(1e-6, 1000),\n",
      "    \"reg_lambda\": scipy.stats.loguniform(1e-6, 1000),\n",
      "}\n",
      "[END]\n",
      "\n",
      "The refinements are based on the observed patterns in the top configurations, general best practices in XGBoost tuning, as well as the need to further explore the search space for regularization parameters. By narrowing the search space for some hyperparameters, we can focus on the most promising areas. By expanding the search space for the regularization parameters, we can explore more possibilities for preventing overfitting.\n"
     ]
    }
   ],
   "source": [
    "# Refine search space\n",
    "response = conversation.predict(input=prompt)\n",
    "print(response)"
   ]
  },
  {
   "cell_type": "code",
   "execution_count": 31,
   "id": "0b19d7ec",
   "metadata": {},
   "outputs": [
    {
     "name": "stdout",
     "output_type": "stream",
     "text": [
      "n_iterations: 5\n",
      "n_required_iterations: 6\n",
      "n_possible_iterations: 5\n",
      "min_resources_: 325\n",
      "max_resources_: 78999\n",
      "aggressive_elimination: False\n",
      "factor: 3\n",
      "----------\n",
      "iter: 0\n",
      "n_candidates: 500\n",
      "n_resources: 325\n",
      "Fitting 5 folds for each of 500 candidates, totalling 2500 fits\n",
      "----------\n",
      "iter: 1\n",
      "n_candidates: 167\n",
      "n_resources: 975\n",
      "Fitting 5 folds for each of 167 candidates, totalling 835 fits\n",
      "----------\n",
      "iter: 2\n",
      "n_candidates: 56\n",
      "n_resources: 2925\n",
      "Fitting 5 folds for each of 56 candidates, totalling 280 fits\n",
      "----------\n",
      "iter: 3\n",
      "n_candidates: 19\n",
      "n_resources: 8775\n",
      "Fitting 5 folds for each of 19 candidates, totalling 95 fits\n",
      "----------\n",
      "iter: 4\n",
      "n_candidates: 7\n",
      "n_resources: 26325\n",
      "Fitting 5 folds for each of 7 candidates, totalling 35 fits\n",
      "CPU times: total: 5h 10min 33s\n",
      "Wall time: 29min 16s\n"
     ]
    }
   ],
   "source": [
    "%%time\n",
    "\n",
    "search_space = {\n",
    "    \"n_estimators\": scipy.stats.randint(500, 1000),\n",
    "    \"max_depth\": scipy.stats.randint(3, 10),\n",
    "    \"min_child_weight\": scipy.stats.randint(1, 3),\n",
    "    \"gamma\": scipy.stats.uniform(0, 5),\n",
    "    \"scale_pos_weight\": scipy.stats.uniform(1, 10),\n",
    "    \"learning_rate\": scipy.stats.loguniform(0.01, 0.1),\n",
    "    \"subsample\": scipy.stats.uniform(0.7, 0.3),\n",
    "    \"colsample_bylevel\": scipy.stats.uniform(0.7, 0.3),\n",
    "    \"colsample_bytree\": scipy.stats.uniform(0.7, 0.3),\n",
    "    \"reg_alpha\": scipy.stats.loguniform(1e-6, 1000),\n",
    "    \"reg_lambda\": scipy.stats.loguniform(1e-6, 1000),\n",
    "}\n",
    "\n",
    "clf = xgb.XGBClassifier(seed=42, objective='binary:logistic', \n",
    "                        eval_metric='logloss', n_jobs=-1, use_label_encoder=False)\n",
    "# search = RandomizedSearchCV(clf, search_space, scoring='roc_auc', \n",
    "#                             n_iter=5, cv=5, verbose=1).fit(X_train, y_train)\n",
    "search = HalvingRandomSearchCV(clf, search_space, scoring='f1', n_candidates=500,\n",
    "                              cv=5, min_resources='exhaust', factor=3, verbose=1).fit(X_train, y_train)"
   ]
  },
  {
   "cell_type": "code",
   "execution_count": 32,
   "id": "4594abbf",
   "metadata": {},
   "outputs": [
    {
     "name": "stdout",
     "output_type": "stream",
     "text": [
      "ROC_AUC score: 0.978\n",
      "f1 score: 0.836\n",
      "Accuracy: 93.80%\n",
      "Precision: 88.81%\n",
      "Detection rate: 78.91%\n",
      "False alarm rate: 2.4817217588301927%\n",
      "MCC: 0.80\n"
     ]
    },
    {
     "data": {
      "image/png": "[encoded data removed]",
      "text/plain": [
       "<Figure size 432x288 with 2 Axes>"
      ]
     },
     "metadata": {
      "needs_background": "light"
     },
     "output_type": "display_data"
    }
   ],
   "source": [
    "y_pred = search.predict(X_test)\n",
    "y_pred_proba = search.predict_proba(X_test)\n",
    "utilities.metrics_display(y_test, y_pred, y_pred_proba[:, 1])"
   ]
  },
  {
   "cell_type": "code",
   "execution_count": 33,
   "id": "b2affc8f",
   "metadata": {},
   "outputs": [],
   "source": [
    "top_n, best_score = extract_logs(search.cv_results_)\n",
    "last_run_best_score.append(best_score)\n",
    "if len(all_time_best_score)==0:\n",
    "    all_time_best_score.append(best_score)\n",
    "else:\n",
    "    if all_time_best_score[0]<best_score:\n",
    "        all_time_best_score[0] = best_score\n",
    "prompt = suggest_refine_search_space(top_n, last_run_best_score[-1], all_time_best_score[-1])"
   ]
  },
  {
   "cell_type": "code",
   "execution_count": 35,
   "id": "fe02f365",
   "metadata": {},
   "outputs": [
    {
     "name": "stdout",
     "output_type": "stream",
     "text": [
      "\n",
      "    Given your previously suggested search space, the obtained top configurations with their \n",
      "    test scores:\n",
      "    Configuration 1 (0.9966 test score): colsample_bylevel: 0.7701307610565704, colsample_bytree: 0.7806492657742847, gamma: 1.7789426639142998, learning_rate: 0.09552112316589582, max_depth: 5, min_child_weight: 1, n_estimators: 702, reg_alpha: 0.1738761362842262, reg_lambda: 0.7975995338951125, scale_pos_weight: 4.7170071967577325, subsample: 0.9150451693550731\n",
      "Configuration 2 (0.9965 test score): colsample_bylevel: 0.8017583276387795, colsample_bytree: 0.9127881694780163, gamma: 2.1403265472987556, learning_rate: 0.05394096581545913, max_depth: 5, min_child_weight: 1, n_estimators: 698, reg_alpha: 0.35713133161909666, reg_lambda: 0.00014671490036283997, scale_pos_weight: 5.77070313218654, subsample: 0.8600426987781119\n",
      "Configuration 3 (0.9965 test score): colsample_bylevel: 0.7338692953597519, colsample_bytree: 0.7910565561097123, gamma: 2.841990474061382, learning_rate: 0.06139222986440773, max_depth: 5, min_child_weight: 1, n_estimators: 855, reg_alpha: 9.946309728747131e-05, reg_lambda: 0.0004926102752257157, scale_pos_weight: 5.40885514201093, subsample: 0.8781427006254421\n",
      "Configuration 4 (0.9961 test score): colsample_bylevel: 0.9520721351555227, colsample_bytree: 0.7076995200698439, gamma: 4.296751227242765, learning_rate: 0.06571727876643861, max_depth: 6, min_child_weight: 2, n_estimators: 962, reg_alpha: 3.445271141747742e-05, reg_lambda: 3.4965436149969518e-06, scale_pos_weight: 4.610331843936757, subsample: 0.9904728458530005\n",
      "Configuration 5 (0.9961 test score): colsample_bylevel: 0.7464394395440583, colsample_bytree: 0.7632522598697045, gamma: 4.359210522638682, learning_rate: 0.05741247779715039, max_depth: 8, min_child_weight: 2, n_estimators: 562, reg_alpha: 2.4069910647391255e-05, reg_lambda: 0.015814083698280284, scale_pos_weight: 3.732175188900592, subsample: 0.9025664086545294\n",
      "    \n",
      "    The best score from the last run was 0.9966041730238379, while the best score ever \n",
      "    achieved in all previous runs is 0.9971782648953115\n",
      "\n",
      "    Remember, tunable hyperparameters are: n_estimators, max_depth, min_child_samples, gamma, \n",
      "    scale_pos_weight, learning_rate, subsample, colsample_bylevel, colsample_bytree, reg_alpha, \n",
      "    and reg_lambda.\n",
      "\n",
      "    Given the insights from the search history, your expertise in ML, and the need to further \n",
      "    explore the search space, please suggest refinements for the search space in the next optimization round. \n",
      "    Consider both narrowing and expanding the search space for hyperparameters where appropriate.\n",
      "\n",
      "    For each recommendation, please:\n",
      "    1. Explicitly tie back to any general best practices or patterns you are aware of regarding XGBoost tuning\n",
      "    2. Then, relate to the insights from the search history and explain how they align or deviate from these \n",
      "    practices or patterns.\n",
      "    3. If suggesting an expansion of the search space, please provide a rationale for why a broader range could \n",
      "    be beneficial.\n",
      "\n",
      "\n",
      "    Briefly summarize your reasoning for the refinements and then present the adjusted configurations. \n",
      "    Enclose your refined configurations between markers [BEGIN] and [END], and assign your \n",
      "    configuration to a variable named search_space.\n",
      "    \n"
     ]
    }
   ],
   "source": [
    "print(prompt)"
   ]
  },
  {
   "cell_type": "code",
   "execution_count": 39,
   "id": "94e09d6f",
   "metadata": {},
   "outputs": [
    {
     "name": "stdout",
     "output_type": "stream",
     "text": [
      "Looking at the top configurations, we observe the following:\n",
      "\n",
      "- n_estimators: The values are mostly around the middle of the range, suggesting we could narrow the range slightly.\n",
      "- max_depth: The values are mostly around the middle of the range, suggesting we could narrow the range slightly.\n",
      "- min_child_weight: All the top configurations have this value as 1 or 2, suggesting we can keep the current range.\n",
      "- gamma: The values are varied, suggesting we can keep the current range.\n",
      "- scale_pos_weight: The values are mostly around the middle of the range, suggesting we could narrow the range slightly.\n",
      "- learning_rate: The values are varied, suggesting we can keep the current range.\n",
      "- subsample, colsample_bylevel, colsample_bytree: The values are on the higher end of the spectrum, suggesting that we could narrow the range to higher values.\n",
      "- reg_alpha, reg_lambda: The values are varied, but mostly small. This suggests that we could narrow the range to smaller values.\n",
      "\n",
      "The refinements are based on the observed patterns in the top configurations and general best practices in XGBoost tuning. By narrowing the search space for some hyperparameters, we can focus on the most promising areas. \n",
      "\n",
      "Here are the adjusted configurations:\n",
      "\n",
      "[BEGIN]\n",
      "search_space = {\n",
      "    \"n_estimators\": scipy.stats.randint(500, 900),\n",
      "    \"max_depth\": scipy.stats.randint(4, 9),\n",
      "    \"min_child_weight\": scipy.stats.randint(1, 3),\n",
      "    \"gamma\": scipy.stats.uniform(0, 5),\n",
      "    \"scale_pos_weight\": scipy.stats.uniform(3, 7),\n",
      "    \"learning_rate\": scipy.stats.loguniform(0.01, 0.1),\n",
      "    \"subsample\": scipy.stats.uniform(0.8, 0.2),\n",
      "    \"colsample_bylevel\": scipy.stats.uniform(0.7, 0.3),\n",
      "    \"colsample_bytree\": scipy.stats.uniform(0.7, 0.3),\n",
      "    \"reg_alpha\": scipy.stats.loguniform(1e-6, 10),\n",
      "    \"reg_lambda\": scipy.stats.loguniform(1e-6, 10),\n",
      "}\n",
      "[END]\n"
     ]
    }
   ],
   "source": [
    "# Refine search space\n",
    "response = conversation.predict(input=prompt)\n",
    "print(response)"
   ]
  },
  {
   "cell_type": "code",
   "execution_count": 40,
   "id": "8ada69ad",
   "metadata": {},
   "outputs": [
    {
     "name": "stdout",
     "output_type": "stream",
     "text": [
      "n_iterations: 5\n",
      "n_required_iterations: 5\n",
      "n_possible_iterations: 5\n",
      "min_resources_: 975\n",
      "max_resources_: 78999\n",
      "aggressive_elimination: False\n",
      "factor: 3\n",
      "----------\n",
      "iter: 0\n",
      "n_candidates: 100\n",
      "n_resources: 975\n",
      "Fitting 5 folds for each of 100 candidates, totalling 500 fits\n",
      "----------\n",
      "iter: 1\n",
      "n_candidates: 34\n",
      "n_resources: 2925\n",
      "Fitting 5 folds for each of 34 candidates, totalling 170 fits\n",
      "----------\n",
      "iter: 2\n",
      "n_candidates: 12\n",
      "n_resources: 8775\n",
      "Fitting 5 folds for each of 12 candidates, totalling 60 fits\n",
      "----------\n",
      "iter: 3\n",
      "n_candidates: 4\n",
      "n_resources: 26325\n",
      "Fitting 5 folds for each of 4 candidates, totalling 20 fits\n",
      "----------\n",
      "iter: 4\n",
      "n_candidates: 2\n",
      "n_resources: 78975\n",
      "Fitting 5 folds for each of 2 candidates, totalling 10 fits\n",
      "CPU times: total: 2h 11min 38s\n",
      "Wall time: 11min 57s\n"
     ]
    }
   ],
   "source": [
    "%%time\n",
    "\n",
    "search_space = {\n",
    "    \"n_estimators\": scipy.stats.randint(500, 1000),\n",
    "    \"max_depth\": scipy.stats.randint(3, 10),\n",
    "    \"min_child_weight\": scipy.stats.randint(1, 3),\n",
    "    \"gamma\": scipy.stats.uniform(0, 5),\n",
    "    \"scale_pos_weight\": scipy.stats.uniform(1, 10),\n",
    "    \"learning_rate\": scipy.stats.loguniform(0.01, 0.1),\n",
    "    \"subsample\": scipy.stats.uniform(0.7, 0.3),\n",
    "    \"colsample_bylevel\": scipy.stats.uniform(0.7, 0.3),\n",
    "    \"colsample_bytree\": scipy.stats.uniform(0.7, 0.3),\n",
    "    \"reg_alpha\": scipy.stats.loguniform(1e-6, 1000),\n",
    "    \"reg_lambda\": scipy.stats.loguniform(1e-6, 1000),\n",
    "}\n",
    "\n",
    "clf = xgb.XGBClassifier(seed=42, objective='binary:logistic', \n",
    "                        eval_metric='logloss', n_jobs=-1, use_label_encoder=False)\n",
    "# search = RandomizedSearchCV(clf, search_space, scoring='roc_auc', \n",
    "#                             n_iter=5, cv=5, verbose=1).fit(X_train, y_train)\n",
    "search = HalvingRandomSearchCV(clf, search_space, scoring='f1', n_candidates=100,\n",
    "                              cv=5, min_resources='exhaust', factor=3, verbose=1).fit(X_train, y_train)"
   ]
  },
  {
   "cell_type": "code",
   "execution_count": 41,
   "id": "9bf073d3",
   "metadata": {},
   "outputs": [
    {
     "name": "stdout",
     "output_type": "stream",
     "text": [
      "ROC_AUC score: 0.983\n",
      "f1 score: 0.848\n",
      "Accuracy: 94.22%\n",
      "Precision: 89.50%\n",
      "Detection rate: 80.52%\n",
      "False alarm rate: 2.358150550921635%\n",
      "MCC: 0.81\n"
     ]
    },
    {
     "data": {
      "image/png": "[encoded data removed]",
      "text/plain": [
       "<Figure size 432x288 with 2 Axes>"
      ]
     },
     "metadata": {
      "needs_background": "light"
     },
     "output_type": "display_data"
    }
   ],
   "source": [
    "y_pred = search.predict(X_test)\n",
    "y_pred_proba = search.predict_proba(X_test)\n",
    "utilities.metrics_display(y_test, y_pred, y_pred_proba[:, 1])"
   ]
  },
  {
   "cell_type": "code",
   "execution_count": null,
   "id": "acc745d4",
   "metadata": {},
   "outputs": [],
   "source": []
  }
 ],
 "metadata": {
  "kernelspec": {
   "display_name": "Python 3 (ipykernel)",
   "language": "python",
   "name": "python3"
  },
  "language_info": {
   "codemirror_mode": {
    "name": "ipython",
    "version": 3
   },
   "file_extension": ".py",
   "mimetype": "text/x-python",
   "name": "python",
   "nbconvert_exporter": "python",
   "pygments_lexer": "ipython3",
   "version": "3.8.12"
  }
 },
 "nbformat": 4,
 "nbformat_minor": 5
}
